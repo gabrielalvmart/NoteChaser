{
 "cells": [
  {
   "cell_type": "code",
   "execution_count": 86,
   "metadata": {},
   "outputs": [],
   "source": [
    "import os\n",
    "from PIL import Image\n",
    "import numpy as np\n",
    "from sklearn.model_selection import train_test_split\n",
    "\n",
    "import torch\n",
    "import torch.nn as nn\n",
    "import torch.optim as optim\n",
    "\n",
    "from torch.utils.data import Dataset, DataLoader\n",
    "import torch.optim as optim\n",
    "import torch.nn.functional as F\n",
    "import torchvision.transforms as transforms\n",
    "from torch.nn import Transformer\n",
    "\n"
   ]
  },
  {
   "cell_type": "code",
   "execution_count": 81,
   "metadata": {},
   "outputs": [],
   "source": [
    "def load_spectrogram(image_path):\n",
    "    image = Image.open(image_path).convert('L')  # Convert to grayscale\n",
    "    image = np.array(image) / 255.0  # Normalize to [0, 1]\n",
    "    image = torch.tensor(image, dtype=torch.float32).unsqueeze(0)  # Add channel dimension\n",
    "    return image\n",
    "\n",
    "def load_midi(midi_path):\n",
    "    midi_array = np.load(midi_path, allow_pickle=True)\n",
    "    midi_array = torch.tensor(midi_array, dtype=torch.float32)\n",
    "    return midi_array"
   ]
  },
  {
   "cell_type": "code",
   "execution_count": 117,
   "metadata": {},
   "outputs": [],
   "source": [
    "from torch.utils.data import Dataset, DataLoader\n",
    "from torch.nn.utils.rnn import pad_sequence\n",
    "\n",
    "import os\n",
    "\n",
    "def custom_collate_fn(batch):\n",
    "    # Stack spectrograms and MIDI files\n",
    "    spectrograms = torch.stack([item[0] for item in batch])\n",
    "    midi_files = torch.stack([item[1] for item in batch])\n",
    "    return spectrograms, midi_files\n",
    "\n",
    "\n",
    "class SpectrogramMIDIDataset(Dataset):\n",
    "    def __init__(self, spectrogram_dir, midi_dir, years):\n",
    "        self.spectrogram_paths = []\n",
    "        self.midi_paths = []\n",
    "\n",
    "        # Iterate through each year folder\n",
    "        for year in years:\n",
    "            spectrogram_year_dir = os.path.join(spectrogram_dir, year)\n",
    "            midi_year_dir = os.path.join(midi_dir, year)\n",
    "\n",
    "            # Get all spectrogram and MIDI files in the year folder\n",
    "            spectrogram_files = sorted(os.listdir(spectrogram_year_dir))\n",
    "            midi_files = sorted(os.listdir(midi_year_dir))\n",
    "\n",
    "            # Pair spectrogram and MIDI files\n",
    "            for spec_file, midi_file in zip(spectrogram_files, midi_files):\n",
    "                self.spectrogram_paths.append(os.path.join(spectrogram_year_dir, spec_file))\n",
    "                self.midi_paths.append(os.path.join(midi_year_dir, midi_file))\n",
    "\n",
    "    def __len__(self):\n",
    "        return len(self.spectrogram_paths)\n",
    "\n",
    "    def __getitem__(self, idx):\n",
    "        spectrogram = load_spectrogram(self.spectrogram_paths[idx])\n",
    "        midi = load_midi(self.midi_paths[idx])\n",
    "        return spectrogram, midi"
   ]
  },
  {
   "cell_type": "code",
   "execution_count": 119,
   "metadata": {},
   "outputs": [],
   "source": [
    "# Define paths\n",
    "spectrogram_dir = \"../spectrograms\"\n",
    "midi_dir = \"../midi-processed-values\"\n",
    "\n",
    "# years = [\"2004\", \"2006\", \"2008\", \"2009\", \"2011\", \"2013\", \"2014\", \"2015\", \"2017\", \"2018\"]\n",
    "training_years = [\"2004\", \"2006\", \"2009\", \"2013\", \"2014\", \"2015\", \"2017\", \"2018\"]\n",
    "testing_years = [\"2008\", \"2011\"]\n",
    "\n",
    "\n",
    "# Create dataset\n",
    "dataset = SpectrogramMIDIDataset(spectrogram_dir, midi_dir, training_years)\n",
    "\n",
    "# Create dataloader\n",
    "dataloader = DataLoader(dataset, batch_size=32, shuffle=True, collate_fn=custom_collate_fn)"
   ]
  }
 ],
 "metadata": {
  "kernelspec": {
   "display_name": ".venv",
   "language": "python",
   "name": "python3"
  },
  "language_info": {
   "codemirror_mode": {
    "name": "ipython",
    "version": 3
   },
   "file_extension": ".py",
   "mimetype": "text/x-python",
   "name": "python",
   "nbconvert_exporter": "python",
   "pygments_lexer": "ipython3",
   "version": "3.12.8"
  }
 },
 "nbformat": 4,
 "nbformat_minor": 2
}
