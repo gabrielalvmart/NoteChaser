{
 "cells": [
  {
   "cell_type": "code",
   "execution_count": 3,
   "metadata": {},
   "outputs": [],
   "source": [
    "import mido\n",
    "import os\n",
    "import re\n",
    "from pathlib import Path\n",
    "import json"
   ]
  },
  {
   "cell_type": "code",
   "execution_count": 4,
   "metadata": {},
   "outputs": [
    {
     "name": "stdout",
     "output_type": "stream",
     "text": [
      "['2013', '2014', '2015', '2008', '2006', '2009', '2017', '2018', '2011', '2004']\n"
     ]
    }
   ],
   "source": [
    "dataset_folder_path = '/Users/gabriel.alvarado/Repos/thinkai/datasets/maestro-v3.0.0-midi'\n",
    "\n",
    "\n",
    "folder_data = os.listdir(dataset_folder_path)\n",
    "valid_folder_data = [folder for folder in folder_data if re.match(r'\\d{4}', folder)]\n",
    "print(valid_folder_data)"
   ]
  },
  {
   "cell_type": "code",
   "execution_count": 8,
   "metadata": {},
   "outputs": [],
   "source": [
    "def process_midi_file_json(midi_file_path):\n",
    "    midi_file = mido.MidiFile(midi_file_path)\n",
    "    return json.dumps({\n",
    "        \"metadata\": {\n",
    "            \"type\": midi_file.type,\n",
    "            \"ticks_per_beat\": midi_file.ticks_per_beat,\n",
    "            \"length\": midi_file.length,\n",
    "            \"track_count\": len(midi_file.tracks)\n",
    "        },\n",
    "        \"messages\": [str(msg) for track in midi_file.tracks for msg in track]\n",
    "    })\n",
    "\n",
    "def save_midi_data(midi_data, output_folder, filename):\n",
    "    if not os.path.exists(output_folder):\n",
    "        os.makedirs(output_folder)\n",
    "    with open(f'{output_folder}/{filename}.json', 'w') as f:\n",
    "        f.write(str(midi_data))\n",
    "\n",
    "def process_midi_folder_json(folder_path, output_folder):\n",
    "    midi_files = os.listdir(folder_path)\n",
    "    for midi_file in midi_files:\n",
    "        midi_file_path = f'{folder_path}/{midi_file}'\n",
    "        midi_data = process_midi_file_json(midi_file_path)\n",
    "        save_midi_data(midi_data, output_folder, midi_file)\n"
   ]
  },
  {
   "cell_type": "code",
   "execution_count": 44,
   "metadata": {},
   "outputs": [],
   "source": [
    "message_type_map = {\n",
    "    \"set_tempo\": 0,\n",
    "    \"time_signature\": 1,\n",
    "    \"end_of_track\": 2,\n",
    "    \"control_change\": 3,\n",
    "    \"note_on\": 4,\n",
    "    \"program_change\": 5,\n",
    "}\n",
    "\n",
    "def process_midi_file_values(midi_file_path):\n",
    "    midi_file = mido.MidiFile(midi_file_path)\n",
    "    messages = []\n",
    "\n",
    "    global_metadata = [\n",
    "        midi_file.type,\n",
    "        midi_file.ticks_per_beat,\n",
    "        midi_file.length,\n",
    "        len(midi_file.tracks)\n",
    "    ]\n",
    "\n",
    "    for track in midi_file.tracks:\n",
    "        for msg in track:\n",
    "            if not msg.is_meta:\n",
    "                message_values = []\n",
    "                message_values.append(message_type_map.get(msg.type, -1))\n",
    "                if hasattr(msg, 'channel'):\n",
    "                    message_values.append(msg.channel)\n",
    "                if hasattr(msg, 'note'):\n",
    "                    message_values.append(msg.note)\n",
    "                if hasattr(msg, 'velocity'):\n",
    "                    message_values.append(msg.velocity)\n",
    "                if hasattr(msg, 'control'):\n",
    "                    message_values.append(msg.control)\n",
    "                if hasattr(msg, 'value'):\n",
    "                    message_values.append(msg.value)\n",
    "                if hasattr(msg, 'program'):\n",
    "                    message_values.append(msg.program)\n",
    "                message_values.append(msg.time)\n",
    "\n",
    "            else:\n",
    "                if msg.type == 'time_signature':\n",
    "                    message_values = [\n",
    "                        message_type_map.get(\"time_signature\", -1),\n",
    "                        msg.numerator,\n",
    "                        msg.denominator,\n",
    "                        msg.clocks_per_click,\n",
    "                        msg.notated_32nd_notes_per_beat,\n",
    "                        msg.time,\n",
    "                    ]\n",
    "                elif msg.type == 'set_tempo':\n",
    "                    message_values = [\n",
    "                        message_type_map.get(\"set_tempo\", -1),\n",
    "                        msg.tempo,\n",
    "                        msg.time,\n",
    "                    ]\n",
    "                elif msg.type == 'end_of_track':\n",
    "                    message_values = [\n",
    "                        message_type_map.get(\"end_of_track\", -1),\n",
    "                        msg.time,\n",
    "                    ]\n",
    "            if message_values:\n",
    "                messages.append(message_values)\n",
    "\n",
    "    return global_metadata, messages\n",
    "\n",
    "\n",
    "def save_midi_values(midi_values, output_folder, filename):\n",
    "    if not os.path.exists(output_folder):\n",
    "        os.makedirs(output_folder)\n",
    "    with open(f'{output_folder}/{filename}', 'w') as f:\n",
    "        f.write(json.dumps(midi_values))\n",
    "\n",
    "def process_midi_folder_values(folder_path, output_folder):\n",
    "    midi_files = os.listdir(folder_path)\n",
    "    for midi_file in midi_files:\n",
    "        midi_file_path = f'{folder_path}/{midi_file}'\n",
    "        midi_values = process_midi_file_values(midi_file_path)\n",
    "        save_midi_values(midi_values, output_folder, midi_file)"
   ]
  },
  {
   "cell_type": "code",
   "execution_count": 45,
   "metadata": {},
   "outputs": [
    {
     "ename": "AttributeError",
     "evalue": "'MidiFile' object has no attribute 'metadata'",
     "output_type": "error",
     "traceback": [
      "\u001b[0;31m---------------------------------------------------------------------------\u001b[0m",
      "\u001b[0;31mAttributeError\u001b[0m                            Traceback (most recent call last)",
      "Cell \u001b[0;32mIn[45], line 1\u001b[0m\n\u001b[0;32m----> 1\u001b[0m messages \u001b[38;5;241m=\u001b[39m \u001b[43mprocess_midi_file_values\u001b[49m\u001b[43m(\u001b[49m\u001b[38;5;124;43mf\u001b[39;49m\u001b[38;5;124;43m'\u001b[39;49m\u001b[38;5;132;43;01m{\u001b[39;49;00m\u001b[43mdataset_folder_path\u001b[49m\u001b[38;5;132;43;01m}\u001b[39;49;00m\u001b[38;5;124;43m/2004/MIDI-Unprocessed_SMF_02_R1_2004_01-05_ORIG_MID--AUDIO_02_R1_2004_05_Track05_wav.midi\u001b[39;49m\u001b[38;5;124;43m'\u001b[39;49m\u001b[43m)\u001b[49m\n\u001b[1;32m      2\u001b[0m \u001b[38;5;28mprint\u001b[39m(messages)\n",
      "Cell \u001b[0;32mIn[44], line 14\u001b[0m, in \u001b[0;36mprocess_midi_file_values\u001b[0;34m(midi_file_path)\u001b[0m\n\u001b[1;32m     11\u001b[0m midi_file \u001b[38;5;241m=\u001b[39m mido\u001b[38;5;241m.\u001b[39mMidiFile(midi_file_path)\n\u001b[1;32m     12\u001b[0m messages \u001b[38;5;241m=\u001b[39m []\n\u001b[0;32m---> 14\u001b[0m \u001b[38;5;28mprint\u001b[39m (\u001b[43mmidi_file\u001b[49m\u001b[38;5;241;43m.\u001b[39;49m\u001b[43mmetadata\u001b[49m)\n\u001b[1;32m     16\u001b[0m \u001b[38;5;66;03m# for track in midi_file.tracks:\u001b[39;00m\n\u001b[1;32m     17\u001b[0m \u001b[38;5;66;03m#     for msg in track:\u001b[39;00m\n\u001b[1;32m     18\u001b[0m \u001b[38;5;66;03m#         if not msg.is_meta:\u001b[39;00m\n\u001b[0;32m   (...)\u001b[0m\n\u001b[1;32m     56\u001b[0m \u001b[38;5;66;03m#         if message_values:\u001b[39;00m\n\u001b[1;32m     57\u001b[0m \u001b[38;5;66;03m#             messages.append(message_values)\u001b[39;00m\n\u001b[1;32m     59\u001b[0m \u001b[38;5;28;01mreturn\u001b[39;00m messages\n",
      "\u001b[0;31mAttributeError\u001b[0m: 'MidiFile' object has no attribute 'metadata'"
     ]
    }
   ],
   "source": [
    "messages = process_midi_file_values(f'{dataset_folder_path}/2004/MIDI-Unprocessed_SMF_02_R1_2004_01-05_ORIG_MID--AUDIO_02_R1_2004_05_Track05_wav.midi')\n",
    "print(messages)"
   ]
  },
  {
   "cell_type": "code",
   "execution_count": null,
   "metadata": {},
   "outputs": [],
   "source": [
    "# Process all midi files into JSON\n",
    "\n",
    "# Create midi output folder if it doesn't exist\n",
    "output_folder = './midi-processed'\n",
    "if not os.path.exists(output_folder):\n",
    "    os.makedirs(output_folder)\n",
    "\n",
    "for folder in valid_folder_data:\n",
    "    print(\"processing folder: \", folder)\n",
    "    folder_path = f'{dataset_folder_path}/{folder}'\n",
    "    process_midi_folder_json(folder_path, f'{output_folder}/{folder}')"
   ]
  },
  {
   "cell_type": "code",
   "execution_count": 41,
   "metadata": {},
   "outputs": [
    {
     "name": "stdout",
     "output_type": "stream",
     "text": [
      "processing folder:  2013\n",
      "processing folder:  2014\n",
      "processing folder:  2015\n",
      "processing folder:  2008\n",
      "processing folder:  2006\n",
      "processing folder:  2009\n",
      "processing folder:  2017\n",
      "processing folder:  2018\n",
      "processing folder:  2011\n",
      "processing folder:  2004\n"
     ]
    }
   ],
   "source": [
    "# Process all midi files into values\n",
    "\n",
    "# Create midi output folder if it doesn't exist\n",
    "output_folder = './midi-processed-values'\n",
    "if not os.path.exists(output_folder):\n",
    "    os.makedirs(output_folder)\n",
    "\n",
    "for folder in valid_folder_data:\n",
    "    print(\"processing folder: \", folder)\n",
    "    folder_path = f'{dataset_folder_path}/{folder}'\n",
    "    process_midi_folder_values(folder_path, f'{output_folder}/{folder}')"
   ]
  }
 ],
 "metadata": {
  "kernelspec": {
   "display_name": "NoteChaser",
   "language": "python",
   "name": "python3"
  },
  "language_info": {
   "codemirror_mode": {
    "name": "ipython",
    "version": 3
   },
   "file_extension": ".py",
   "mimetype": "text/x-python",
   "name": "python",
   "nbconvert_exporter": "python",
   "pygments_lexer": "ipython3",
   "version": "3.11.9"
  }
 },
 "nbformat": 4,
 "nbformat_minor": 2
}
