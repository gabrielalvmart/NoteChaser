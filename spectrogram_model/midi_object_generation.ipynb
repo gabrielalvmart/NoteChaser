{
 "cells": [
  {
   "cell_type": "code",
   "execution_count": 46,
   "metadata": {},
   "outputs": [],
   "source": [
    "import mido\n",
    "import os\n",
    "import re\n",
    "from pathlib import Path\n",
    "import json\n",
    "import numpy as np"
   ]
  },
  {
   "cell_type": "code",
   "execution_count": 47,
   "metadata": {},
   "outputs": [
    {
     "name": "stdout",
     "output_type": "stream",
     "text": [
      "['2013', '2014', '2015', '2008', '2006', '2009', '2017', '2018', '2011', '2004']\n"
     ]
    }
   ],
   "source": [
    "dataset_folder_path = '../datasets/maestro-v3.0.0-midi'\n",
    "\n",
    "\n",
    "folder_data = os.listdir(dataset_folder_path)\n",
    "valid_folder_data = [folder for folder in folder_data if re.match(r'\\d{4}', folder)]\n",
    "print(valid_folder_data)"
   ]
  },
  {
   "cell_type": "code",
   "execution_count": 48,
   "metadata": {},
   "outputs": [],
   "source": [
    "def process_midi_file_json(midi_file_path):\n",
    "    midi_file = mido.MidiFile(midi_file_path)\n",
    "    return json.dumps({\n",
    "        \"metadata\": {\n",
    "            \"type\": midi_file.type,\n",
    "            \"ticks_per_beat\": midi_file.ticks_per_beat,\n",
    "            \"length\": midi_file.length,\n",
    "            \"track_count\": len(midi_file.tracks)\n",
    "        },\n",
    "        \"messages\": [str(msg) for track in midi_file.tracks for msg in track]\n",
    "    })\n",
    "\n",
    "def save_midi_data(midi_data, output_folder, filename):\n",
    "    if not os.path.exists(output_folder):\n",
    "        os.makedirs(output_folder)\n",
    "    with open(f'{output_folder}/{filename}.json', 'w') as f:\n",
    "        f.write(str(midi_data))\n",
    "\n",
    "def process_midi_folder_json(folder_path, output_folder):\n",
    "    midi_files = os.listdir(folder_path)\n",
    "    for midi_file in midi_files:\n",
    "        midi_file_path = f'{folder_path}/{midi_file}'\n",
    "        midi_data = process_midi_file_json(midi_file_path)\n",
    "        save_midi_data(midi_data, output_folder, midi_file)\n"
   ]
  },
  {
   "cell_type": "code",
   "execution_count": 50,
   "metadata": {},
   "outputs": [],
   "source": [
    "message_type_map = {\n",
    "    \"set_tempo\": 0,\n",
    "    \"time_signature\": 1,\n",
    "    \"end_of_track\": 2,\n",
    "    \"control_change\": 3,\n",
    "    \"note_on\": 4,\n",
    "    \"program_change\": 5,\n",
    "}\n",
    "\n",
    "array_data_position_map = {\n",
    "    \"general_type\": 0,\n",
    "    \"ticks_per_beat\": 1,\n",
    "    \"file_length\": 2,\n",
    "    \"track_count\": 3,\n",
    "    \"message_type\": 4,\n",
    "    \"numerator\": 5,\n",
    "    \"denominator\": 6,\n",
    "    \"clocks_per_click\": 7,\n",
    "    \"notated_32nd_notes_per_beat\": 8,\n",
    "    \"time\": 9,\n",
    "    \"tempo\": 10,\n",
    "    \"channel\": 11,\n",
    "    \"note\": 12,\n",
    "    \"velocity\": 13,\n",
    "    \"control\": 14,\n",
    "    \"value\": 15,\n",
    "    \"program\": 16,\n",
    "}\n",
    "\n",
    "def process_midi_file_values(midi_file_path):\n",
    "    midi_file = mido.MidiFile(midi_file_path)\n",
    "    messages = []\n",
    "\n",
    "    global_metadata_array = fixed_array(17)\n",
    "    global_metadata_array[array_data_position_map[\"general_type\"]] = midi_file.type\n",
    "    global_metadata_array[array_data_position_map[\"ticks_per_beat\"]] = midi_file.ticks_per_beat\n",
    "    global_metadata_array[array_data_position_map[\"file_length\"]] = midi_file.length\n",
    "    global_metadata_array[array_data_position_map[\"track_count\"]] = len(midi_file.tracks)\n",
    "\n",
    "    messages.append(global_metadata_array)\n",
    "\n",
    "    for track in midi_file.tracks:\n",
    "        for msg in track:\n",
    "            message_values = fixed_array(17)\n",
    "            if not msg.is_meta:\n",
    "                message_values[array_data_position_map[\"message_type\"]] = message_type_map.get(msg.type, -1)\n",
    "                if hasattr(msg, 'channel'):\n",
    "                    message_values[array_data_position_map[\"channel\"]] = msg.channel\n",
    "                if hasattr(msg, 'note'):\n",
    "                    message_values[array_data_position_map[\"note\"]] = msg.note\n",
    "                if hasattr(msg, 'velocity'):\n",
    "                    message_values[array_data_position_map[\"velocity\"]] = msg.velocity\n",
    "                if hasattr(msg, 'control'):\n",
    "                    message_values[array_data_position_map[\"control\"]] = msg.control\n",
    "                if hasattr(msg, 'value'):\n",
    "                    message_values[array_data_position_map[\"value\"]] = msg.value\n",
    "                if hasattr(msg, 'program'):\n",
    "                    message_values[array_data_position_map[\"program\"]] = msg.program\n",
    "                message_values[array_data_position_map[\"time\"]] = msg.time\n",
    "            else:\n",
    "                if msg.type == 'time_signature':\n",
    "                    message_values[array_data_position_map[\"message_type\"]] = message_type_map.get(\"time_signature\", -1)\n",
    "                    message_values[array_data_position_map[\"numerator\"]] = msg.numerator\n",
    "                    message_values[array_data_position_map[\"denominator\"]] = msg.denominator\n",
    "                    message_values[array_data_position_map[\"clocks_per_click\"]] = msg.clocks_per_click\n",
    "                    message_values[array_data_position_map[\"notated_32nd_notes_per_beat\"]] = msg.notated_32nd_notes_per_beat\n",
    "                    message_values[array_data_position_map[\"time\"]] = msg.time\n",
    "                elif msg.type == 'set_tempo':\n",
    "                    message_values[array_data_position_map[\"message_type\"]] = message_type_map.get(\"set_tempo\", -1)\n",
    "                    message_values[array_data_position_map[\"tempo\"]] = msg.tempo\n",
    "                    message_values[array_data_position_map[\"time\"]] = msg.time\n",
    "                elif msg.type == 'end_of_track':\n",
    "                    message_values[array_data_position_map[\"message_type\"]] = message_type_map.get(\"end_of_track\", -1)\n",
    "                    message_values[array_data_position_map[\"time\"]] = msg.time\n",
    "            messages.append(message_values)\n",
    "\n",
    "    return messages\n",
    "\n",
    "def fixed_array(size):\n",
    "    return np.full(size, -1)\n",
    "\n",
    "\n",
    "def save_midi_values(midi_values, output_folder, filename):\n",
    "    if not os.path.exists(output_folder):\n",
    "        os.makedirs(output_folder)\n",
    "    np.save(f'{output_folder}/{filename}', np.array(midi_values))\n",
    "\n",
    "def process_midi_folder_values(folder_path, output_folder):\n",
    "    midi_files = os.listdir(folder_path)\n",
    "    for midi_file in midi_files:\n",
    "        midi_file_path = f'{folder_path}/{midi_file}'\n",
    "        midi_values = process_midi_file_values(midi_file_path)\n",
    "        save_midi_values(midi_values, output_folder, midi_file)"
   ]
  },
  {
   "cell_type": "code",
   "execution_count": null,
   "metadata": {},
   "outputs": [],
   "source": [
    "messages = process_midi_file_values(f'{dataset_folder_path}/2004/MIDI-Unprocessed_SMF_02_R1_2004_01-05_ORIG_MID--AUDIO_02_R1_2004_05_Track05_wav.midi')\n",
    "print(messages)"
   ]
  },
  {
   "cell_type": "code",
   "execution_count": 26,
   "metadata": {},
   "outputs": [
    {
     "name": "stdout",
     "output_type": "stream",
     "text": [
      "processing folder:  2013\n",
      "processing folder:  2014\n",
      "processing folder:  2015\n",
      "processing folder:  2008\n",
      "processing folder:  2006\n",
      "processing folder:  2009\n",
      "processing folder:  2017\n",
      "processing folder:  2018\n",
      "processing folder:  2011\n",
      "processing folder:  2004\n"
     ]
    }
   ],
   "source": [
    "# Process all midi files into JSON\n",
    "\n",
    "# Create midi output folder if it doesn't exist\n",
    "output_folder = './midi-processed'\n",
    "if not os.path.exists(output_folder):\n",
    "    os.makedirs(output_folder)\n",
    "\n",
    "for folder in valid_folder_data:\n",
    "    print(\"processing folder: \", folder)\n",
    "    folder_path = f'{dataset_folder_path}/{folder}'\n",
    "    process_midi_folder_json(folder_path, f'{output_folder}/{folder}')"
   ]
  },
  {
   "cell_type": "code",
   "execution_count": 40,
   "metadata": {},
   "outputs": [
    {
     "name": "stdout",
     "output_type": "stream",
     "text": [
      "processing folder:  2013\n",
      "processing folder:  2014\n",
      "processing folder:  2015\n",
      "processing folder:  2008\n",
      "processing folder:  2006\n",
      "processing folder:  2009\n",
      "processing folder:  2017\n",
      "processing folder:  2018\n",
      "processing folder:  2011\n",
      "processing folder:  2004\n"
     ]
    }
   ],
   "source": [
    "# Process all midi files into values\n",
    "\n",
    "# Create midi output folder if it doesn't exist\n",
    "output_folder = './midi-processed-values'\n",
    "if not os.path.exists(output_folder):\n",
    "    os.makedirs(output_folder)\n",
    "\n",
    "for folder in valid_folder_data:\n",
    "    print(\"processing folder: \", folder)\n",
    "    folder_path = f'{dataset_folder_path}/{folder}'\n",
    "    process_midi_folder_values(folder_path, f'{output_folder}/{folder}')"
   ]
  }
 ],
 "metadata": {
  "kernelspec": {
   "display_name": ".venv",
   "language": "python",
   "name": "python3"
  },
  "language_info": {
   "codemirror_mode": {
    "name": "ipython",
    "version": 3
   },
   "file_extension": ".py",
   "mimetype": "text/x-python",
   "name": "python",
   "nbconvert_exporter": "python",
   "pygments_lexer": "ipython3",
   "version": "3.12.8"
  }
 },
 "nbformat": 4,
 "nbformat_minor": 2
}
