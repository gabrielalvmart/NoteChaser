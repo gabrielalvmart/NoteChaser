{
 "cells": [
  {
   "cell_type": "code",
   "execution_count": 7,
   "metadata": {},
   "outputs": [],
   "source": [
    "import mido\n",
    "import os\n",
    "import re\n",
    "from pathlib import Path\n",
    "import json"
   ]
  },
  {
   "cell_type": "code",
   "execution_count": 3,
   "metadata": {},
   "outputs": [
    {
     "name": "stdout",
     "output_type": "stream",
     "text": [
      "['2013', '2014', '2015', '2008', '2006', '2009', '2017', '2018', '2011', '2004']\n"
     ]
    }
   ],
   "source": [
    "dataset_folder_path = '/Users/gabriel.alvarado/Repos/thinkai/datasets/maestro-v3.0.0-midi'\n",
    "\n",
    "\n",
    "folder_data = os.listdir(dataset_folder_path)\n",
    "valid_folder_data = [folder for folder in folder_data if re.match(r'\\d{4}', folder)]\n",
    "print(valid_folder_data)"
   ]
  },
  {
   "cell_type": "code",
   "execution_count": 4,
   "metadata": {},
   "outputs": [],
   "source": [
    "# Create midi output folder if it doesn't exist\n",
    "output_folder = './midi-processed'\n",
    "if not os.path.exists(output_folder):\n",
    "    os.makedirs(output_folder)"
   ]
  },
  {
   "cell_type": "code",
   "execution_count": 8,
   "metadata": {},
   "outputs": [],
   "source": [
    "def process_midi_file(midi_file_path):\n",
    "    midi_file = mido.MidiFile(midi_file_path)\n",
    "    return json.dumps({\n",
    "        \"metadata\": {\n",
    "            \"type\": midi_file.type,\n",
    "            \"ticks_per_beat\": midi_file.ticks_per_beat,\n",
    "            \"length\": midi_file.length,\n",
    "            \"track_count\": len(midi_file.tracks)\n",
    "        },\n",
    "        \"messages\": [str(msg) for track in midi_file.tracks for msg in track]\n",
    "    })\n",
    "\n",
    "def save_midi_data(midi_data, output_folder, filename):\n",
    "    if not os.path.exists(output_folder):\n",
    "        os.makedirs(output_folder)\n",
    "    with open(f'{output_folder}/{filename}.json', 'w') as f:\n",
    "        f.write(str(midi_data))\n",
    "\n",
    "def process_midi_folder(folder_path, output_folder):\n",
    "    midi_files = os.listdir(folder_path)\n",
    "    for midi_file in midi_files:\n",
    "        midi_file_path = f'{folder_path}/{midi_file}'\n",
    "        midi_data = process_midi_file(midi_file_path)\n",
    "        save_midi_data(midi_data, output_folder, midi_file)\n"
   ]
  },
  {
   "cell_type": "code",
   "execution_count": null,
   "metadata": {},
   "outputs": [],
   "source": [
    "print (valid_folder_data)"
   ]
  },
  {
   "cell_type": "code",
   "execution_count": null,
   "metadata": {},
   "outputs": [
    {
     "name": "stdout",
     "output_type": "stream",
     "text": [
      "processing folder:  2013\n"
     ]
    }
   ],
   "source": [
    "\n",
    "for folder in valid_folder_data:\n",
    "    print(\"processing folder: \", folder)\n",
    "    folder_path = f'{dataset_folder_path}/{folder}'\n",
    "    process_midi_folder(folder_path, f'{output_folder}/{folder}')"
   ]
  }
 ],
 "metadata": {
  "kernelspec": {
   "display_name": "NoteChaser",
   "language": "python",
   "name": "python3"
  },
  "language_info": {
   "codemirror_mode": {
    "name": "ipython",
    "version": 3
   },
   "file_extension": ".py",
   "mimetype": "text/x-python",
   "name": "python",
   "nbconvert_exporter": "python",
   "pygments_lexer": "ipython3",
   "version": "3.11.9"
  }
 },
 "nbformat": 4,
 "nbformat_minor": 2
}
