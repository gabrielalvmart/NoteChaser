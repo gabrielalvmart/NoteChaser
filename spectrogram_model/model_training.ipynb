{
 "cells": [
  {
   "cell_type": "code",
   "execution_count": 13,
   "metadata": {},
   "outputs": [],
   "source": [
    "from PIL import Image\n",
    "import numpy as np\n",
    "import torch\n",
    "\n",
    "def load_spectrogram(image_path):\n",
    "    image = Image.open(image_path).convert('L')  # Convert to grayscale\n",
    "    image = np.array(image) / 255.0  # Normalize to [0, 1]\n",
    "    image = torch.tensor(image, dtype=torch.float32).unsqueeze(0)  # Add channel dimension\n",
    "    return image\n",
    "\n",
    "def load_midi(midi_path):\n",
    "    midi_array = np.load(midi_path, allow_pickle=True)\n",
    "    midi_array = torch.tensor(midi_array, dtype=torch.float32)\n",
    "    return midi_array"
   ]
  },
  {
   "cell_type": "code",
   "execution_count": 14,
   "metadata": {},
   "outputs": [
    {
     "name": "stdout",
     "output_type": "stream",
     "text": [
      "torch.Size([500, 17])\n"
     ]
    }
   ],
   "source": [
    "sample_midi = 'midi-processed-values/2004/MIDI-Unprocessed_SMF_02_R1_2004_01-05_ORIG_MID--AUDIO_02_R1_2004_05_Track05_wav.midi.npy'\n",
    "midi = load_midi(sample_midi)\n",
    "print(midi.shape)"
   ]
  },
  {
   "cell_type": "code",
   "execution_count": 15,
   "metadata": {},
   "outputs": [
    {
     "name": "stdout",
     "output_type": "stream",
     "text": [
      "torch.Size([1, 500, 1400])\n"
     ]
    }
   ],
   "source": [
    "sample_spectrogram = 'spectrograms/2004/MIDI-Unprocessed_SMF_02_R1_2004_01-05_ORIG_MID--AUDIO_02_R1_2004_05_Track05_wav.png'\n",
    "image = load_spectrogram(sample_spectrogram)\n",
    "\n",
    "print(image.shape)"
   ]
  },
  {
   "cell_type": "code",
   "execution_count": 16,
   "metadata": {},
   "outputs": [],
   "source": [
    "from torch.utils.data import Dataset, DataLoader\n",
    "from torch.nn.utils.rnn import pad_sequence\n",
    "\n",
    "import os\n",
    "\n",
    "def custom_collate_fn(batch):\n",
    "    # Stack spectrograms and MIDI files\n",
    "    spectrograms = torch.stack([item[0] for item in batch])\n",
    "    midi_files = torch.stack([item[1] for item in batch])\n",
    "    return spectrograms, midi_files\n",
    "\n",
    "\n",
    "class SpectrogramMIDIDataset(Dataset):\n",
    "    def __init__(self, spectrogram_dir, midi_dir, years):\n",
    "        self.spectrogram_paths = []\n",
    "        self.midi_paths = []\n",
    "\n",
    "        # Iterate through each year folder\n",
    "        for year in years:\n",
    "            spectrogram_year_dir = os.path.join(spectrogram_dir, year)\n",
    "            midi_year_dir = os.path.join(midi_dir, year)\n",
    "\n",
    "            # Get all spectrogram and MIDI files in the year folder\n",
    "            spectrogram_files = sorted(os.listdir(spectrogram_year_dir))\n",
    "            midi_files = sorted(os.listdir(midi_year_dir))\n",
    "\n",
    "            # Pair spectrogram and MIDI files\n",
    "            for spec_file, midi_file in zip(spectrogram_files, midi_files):\n",
    "                self.spectrogram_paths.append(os.path.join(spectrogram_year_dir, spec_file))\n",
    "                self.midi_paths.append(os.path.join(midi_year_dir, midi_file))\n",
    "\n",
    "    def __len__(self):\n",
    "        return len(self.spectrogram_paths)\n",
    "\n",
    "    def __getitem__(self, idx):\n",
    "        spectrogram = load_spectrogram(self.spectrogram_paths[idx])\n",
    "        midi = load_midi(self.midi_paths[idx])\n",
    "        return spectrogram, midi"
   ]
  },
  {
   "cell_type": "code",
   "execution_count": 25,
   "metadata": {},
   "outputs": [],
   "source": [
    "# Define paths\n",
    "spectrogram_dir = \"./spectrograms\"\n",
    "midi_dir = \"./midi-processed-values\"\n",
    "\n",
    "# years = [\"2004\", \"2006\", \"2008\", \"2009\", \"2011\", \"2013\", \"2014\", \"2015\", \"2017\", \"2018\"]\n",
    "training_years = [\"2004\", \"2006\", \"2009\", \"2013\", \"2014\", \"2015\", \"2017\", \"2018\"]\n",
    "testing_years = [\"2008\", \"2011\"]\n",
    "\n",
    "\n",
    "# Create dataset\n",
    "dataset = SpectrogramMIDIDataset(spectrogram_dir, midi_dir, training_years)\n",
    "\n",
    "# Create dataloader\n",
    "dataloader = DataLoader(dataset, batch_size=32, shuffle=True, collate_fn=custom_collate_fn)"
   ]
  },
  {
   "cell_type": "code",
   "execution_count": 21,
   "metadata": {},
   "outputs": [
    {
     "name": "stdout",
     "output_type": "stream",
     "text": [
      "Batch 1\n",
      "Padded spectrograms shape: torch.Size([32, 1, 500, 1400])\n",
      "Padded MIDI files shape: torch.Size([32, 500, 17])\n"
     ]
    }
   ],
   "source": [
    "for batch_idx, (spectrograms, midi_files) in enumerate(dataloader):\n",
    "    print(f\"Batch {batch_idx + 1}\")\n",
    "    print(\"Padded spectrograms shape:\", spectrograms.shape)\n",
    "    print(\"Padded MIDI files shape:\", midi_files.shape)\n",
    "    break  # Only check the first batch"
   ]
  },
  {
   "cell_type": "code",
   "execution_count": 23,
   "metadata": {},
   "outputs": [],
   "source": [
    "import torch\n",
    "import torch.nn as nn\n",
    "class SpectrogramToMIDIModel(nn.Module):\n",
    "    def __init__(self, input_channels=1, freq_bins=1400, midi_features=17):\n",
    "        super().__init__()\n",
    "        \n",
    "        # Spectrogram encoder (1D CNN to preserve time steps)\n",
    "        self.encoder = nn.Sequential(\n",
    "            nn.Conv2d(input_channels, 16, kernel_size=(3, 3), padding=(1, 1)),\n",
    "            nn.ReLU(),\n",
    "            nn.Conv2d(16, 32, kernel_size=(3, 3), padding=(1, 1)),\n",
    "            nn.ReLU(),\n",
    "            nn.Conv2d(32, 64, kernel_size=(3, 3), padding=(1, 1)),\n",
    "            nn.ReLU(),\n",
    "        )\n",
    "        \n",
    "        # Temporal decoder (LSTM)\n",
    "        self.lstm = nn.LSTM(\n",
    "            input_size=64 * freq_bins,  # 64 channels * 1400 frequency bins\n",
    "            hidden_size=256,\n",
    "            num_layers=2,\n",
    "            batch_first=True,\n",
    "            bidirectional=False\n",
    "        )\n",
    "        \n",
    "        # Final projection to MIDI features\n",
    "        self.fc = nn.Linear(256, midi_features)\n",
    "\n",
    "    def forward(self, x):\n",
    "        # x shape: [batch, 1, 500, 1400]\n",
    "        x = self.encoder(x)  # [batch, 64, 500, 1400]\n",
    "        \n",
    "        # Flatten frequency and channel dimensions\n",
    "        x = x.permute(0, 2, 1, 3)  # [batch, 500, 64, 1400]\n",
    "        x = x.reshape(x.size(0), x.size(1), -1)  # [batch, 500, 64*1400]\n",
    "        \n",
    "        # LSTM expects [batch, seq_len, features]\n",
    "        lstm_out, _ = self.lstm(x)  # [batch, 500, 256]\n",
    "        \n",
    "        # Project to MIDI features\n",
    "        output = self.fc(lstm_out)  # [batch, 500, 17]\n",
    "        return output"
   ]
  },
  {
   "cell_type": "code",
   "execution_count": 24,
   "metadata": {},
   "outputs": [],
   "source": [
    "import torch.optim as optim\n",
    "\n",
    "input_channels = 1\n",
    "frequency_bins = 1400\n",
    "output_dim = 17 \n",
    "\n",
    "model = SpectrogramToMIDIModel(input_channels, frequency_bins, output_dim)\n"
   ]
  },
  {
   "cell_type": "code",
   "execution_count": null,
   "metadata": {},
   "outputs": [],
   "source": [
    "import torch.optim as optim\n",
    "\n",
    "# Loss function and optimizer\n",
    "criterion = nn.MSELoss()  # Mean Squared Error for regression\n",
    "optimizer = optim.Adam(model.parameters(), lr=0.001)  # Learning rate\n",
    "\n",
    "# Move model to GPU if available\n",
    "device = torch.device(\"cuda\" if torch.cuda.is_available() else \"cpu\")\n",
    "model.to(device)\n",
    "\n",
    "# Training loop\n",
    "num_epochs = 10  # Number of epochs to train\n",
    "\n",
    "for epoch in range(num_epochs):\n",
    "    model.train()\n",
    "    running_loss = 0.0\n",
    "\n",
    "    for batch_idx, (spectrograms, midi_files) in enumerate(dataloader):\n",
    "        spectrograms = spectrograms.to(device)\n",
    "        midi_files = midi_files.to(device)\n",
    "\n",
    "        # Ensure input shape: [batch, 1, 500, 1400]\n",
    "        if spectrograms.dim() == 3:\n",
    "            spectrograms = spectrograms.unsqueeze(1)\n",
    "\n",
    "        optimizer.zero_grad()\n",
    "        outputs = model(spectrograms)  # [batch, 500, 17]\n",
    "        loss = criterion(outputs, midi_files)\n",
    "        loss.backward()\n",
    "        optimizer.step()\n",
    "\n",
    "        running_loss += loss.item()\n",
    "        if batch_idx % 10 == 9:\n",
    "            print(f\"Epoch [{epoch + 1}/{num_epochs}], Batch [{batch_idx + 1}/{len(dataloader)}], Loss: {running_loss / 10:.4f}\")\n",
    "            running_loss = 0.0\n",
    "\n",
    "    print(f\"Epoch [{epoch + 1}/{num_epochs}] completed, Average Loss: {running_loss / len(dataloader):.4f}\")"
   ]
  }
 ],
 "metadata": {
  "kernelspec": {
   "display_name": "NoteChaser",
   "language": "python",
   "name": "python3"
  },
  "language_info": {
   "codemirror_mode": {
    "name": "ipython",
    "version": 3
   },
   "file_extension": ".py",
   "mimetype": "text/x-python",
   "name": "python",
   "nbconvert_exporter": "python",
   "pygments_lexer": "ipython3",
   "version": "3.11.9"
  }
 },
 "nbformat": 4,
 "nbformat_minor": 2
}
